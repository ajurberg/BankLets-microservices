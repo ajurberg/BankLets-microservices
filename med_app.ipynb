{
  "nbformat": 4,
  "nbformat_minor": 0,
  "metadata": {
    "colab": {
      "provenance": [],
      "authorship_tag": "ABX9TyM0QEliAUlURulWQFFGHTn8",
      "include_colab_link": true
    },
    "kernelspec": {
      "name": "python3",
      "display_name": "Python 3"
    },
    "language_info": {
      "name": "python"
    }
  },
  "cells": [
    {
      "cell_type": "markdown",
      "metadata": {
        "id": "view-in-github",
        "colab_type": "text"
      },
      "source": [
        "<a href=\"https://colab.research.google.com/github/ajurberg/BankLets-microservices/blob/master/med_app.ipynb\" target=\"_parent\"><img src=\"https://colab.research.google.com/assets/colab-badge.svg\" alt=\"Open In Colab\"/></a>"
      ]
    },
    {
      "cell_type": "code",
      "execution_count": 3,
      "metadata": {
        "id": "_s6SDQQsXC5d"
      },
      "outputs": [],
      "source": [
        "class Card():\n",
        "\n",
        "  def __init__(self, id, category, clue, aff1, aff2, aff3, aff4, aff5, anwser, comment):\n",
        "        self.id = id\n",
        "        self.category = category\n",
        "        self.clue = clue\n",
        "        self.aff1 = aff1\n",
        "        self.aff2 = aff2\n",
        "        self.aff3 = aff3\n",
        "        self.aff4 = aff4\n",
        "        self.aff5 = aff5\n",
        "        self.anwser = anwser\n",
        "        self.comment = comment"
      ]
    },
    {
      "cell_type": "code",
      "source": [
        "card1 = Card(1,\n",
        "             \"Histologia\",\n",
        "             \"Tecido\",\n",
        "             \"Possuo células justapostas.\",\n",
        "             \"Sou polarizado.\",\n",
        "             \"Possuo uma membrana basal\",\n",
        "             \"Sou classificados quanto ao número de camadas e formato das minhas células.\",\n",
        "             \"Posso ser glandular.\",\n",
        "             \"Tecido epitelial.\",\n",
        "             \"INSERIR COMENTÁRIO\")"
      ],
      "metadata": {
        "colab": {
          "base_uri": "https://localhost:8080/"
        },
        "id": "Yih9fJmTdcZE",
        "outputId": "e4b81dfd-73c8-4b14-855b-255b65912752"
      },
      "execution_count": 5,
      "outputs": [
        {
          "output_type": "stream",
          "name": "stdout",
          "text": [
            "Histologia\n"
          ]
        }
      ]
    },
    {
      "cell_type": "code",
      "source": [
        "is_playing = True\n",
        "\n",
        "while is_playing:\n",
        "  card_ids = []\n",
        "  # Draw card #TODO load_card_from_DB() #TODO random\n",
        "  card = card1\n",
        "  card_ids.append(card)\n",
        "  print(f\"Sou um: {card.clue}\")\n",
        "  if card.id in card_ids:\n",
        "    # Draw another card #TODO load_card_from_DB() #TODO random\n",
        "    pass\n",
        "  else:\n",
        "    playing_card = True\n",
        "    # TODO show_clue()\n",
        "    num_list = []\n",
        "    while playing_card:\n",
        "      num = int(input(\"Escolha um número de 1 a 5: \"))\n",
        "      if num not in num_list:\n",
        "        num_list.append(num)\n",
        "        if num == 1:\n",
        "          print(card.aff1)\n",
        "          guess_decision = str(input(\"você quer adivinhar? [Y/N] \")) # TODO include \"Answer button\"\n",
        "        elif num == 2:\n",
        "          print(card.aff2)\n",
        "          guess_decision = str(input(\"você quer adivinhar? [Y/N] \"))\n",
        "        elif num == 3:\n",
        "          print(card.aff3)\n",
        "          guess_decision = str(input(\"você quer adivinhar? [Y/N] \"))\n",
        "        elif num == 4:\n",
        "          print(card.aff4)\n",
        "          guess_decision = str(input(\"você quer adivinhar? [Y/N] \"))\n",
        "        elif num == 5:\n",
        "          print(card.aff5)\n",
        "          guess_decision = str(input(\"você quer adivinhar? [Y/N] \"))\n",
        "        else:\n",
        "          print(\"Número inválido.\")\n",
        "\n",
        "        if guess_decision.upper() == \"Y\":\n",
        "          playing_card = False\n",
        "          player_anwser = str(input(\"Escreva a sua resposta: \"))\n",
        "          if player_anwser.lower() == card.anwser.lower():\n",
        "            print(\"Acertou!\")\n",
        "          else:\n",
        "            print(\"Errou!\")\n",
        "          is_playing = False\n",
        "\n",
        "        elif guess_decision.upper() == \"N\":\n",
        "          playing_card = True\n",
        "        else:\n",
        "          print(\"Opção inválida.\")\n",
        "\n",
        "      else:\n",
        "        print(\"Número repetido. Escolha outro número\")\n"
      ],
      "metadata": {
        "colab": {
          "base_uri": "https://localhost:8080/"
        },
        "id": "rTYPvQBReLpD",
        "outputId": "7daf142c-c41b-4f1d-92a8-205f1c84f30e"
      },
      "execution_count": 12,
      "outputs": [
        {
          "output_type": "stream",
          "name": "stdout",
          "text": [
            "Sou um: Tecido\n",
            "Escolha um número de 1 a 5: 1\n",
            "Possuo células justapostas.\n",
            "você quer adivinhar? [Y/N] y\n",
            "Escreva a sua resposta: tecido epitelial.\n",
            "Acertou!\n"
          ]
        }
      ]
    }
  ]
}